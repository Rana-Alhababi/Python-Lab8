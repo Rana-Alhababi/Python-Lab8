{
  "nbformat": 4,
  "nbformat_minor": 0,
  "metadata": {
    "colab": {
      "provenance": []
    },
    "kernelspec": {
      "name": "python3",
      "display_name": "Python 3"
    },
    "language_info": {
      "name": "python"
    }
  },
  "cells": [
    {
      "cell_type": "code",
      "execution_count": 8,
      "metadata": {
        "colab": {
          "base_uri": "https://localhost:8080/"
        },
        "id": "6RFlQKOOzW32",
        "outputId": "ea7d80fb-dd8b-4867-a89e-2b856be007e9"
      },
      "outputs": [
        {
          "output_type": "stream",
          "name": "stdout",
          "text": [
            "Total price: 22.5\n"
          ]
        }
      ],
      "source": [
        "class Product:\n",
        "    def __init__(self, name, price, quantity):\n",
        "        self.name = name\n",
        "        self.price = price\n",
        "        self.quantity = quantity\n",
        "\n",
        "    def update_quantity(self, new_quantity):\n",
        "        if new_quantity < 0:\n",
        "            raise ValueError(\"Quantity cannot be negative.\")\n",
        "        self.quantity = new_quantity\n",
        "\n",
        "    def calculate_total_price(self):\n",
        "        return self.price * self.quantity\n",
        "\n",
        "\n",
        "class Inventory:\n",
        "    def __init__(self):\n",
        "        self.products = {}\n",
        "\n",
        "    def add_product(self, product):\n",
        "        if product.name in self.products:\n",
        "            raise ValueError(f\"A product with the name '{product.name}' already exists.\")\n",
        "        self.products[product.name] = product\n",
        "\n",
        "    def update_product(self, product):\n",
        "        if product.name not in self.products:\n",
        "            raise ValueError(f\"No product with the name '{product.name}' exists.\")\n",
        "        self.products[product.name] = product\n",
        "\n",
        "    def remove_product(self, name):\n",
        "        if name not in self.products:\n",
        "            raise ValueError(f\"No product with the name '{name}' exists.\")\n",
        "        del self.products[name]\n",
        "\n",
        "    def calculate_total_price(self):\n",
        "        total_price = 0\n",
        "        for product in self.products.values():\n",
        "            total_price += product.calculate_total_price()\n",
        "        return total_price\n",
        "\n",
        "\n",
        "# Testing the classes\n",
        "\n",
        "# Create three products\n",
        "product1 = Product(\"Apple\", 2.5, 10)\n",
        "product2 = Product(\"Banana\", 2, 20)\n",
        "product3 = Product(\"Coffee\", 10, 1)\n",
        "\n",
        "# Create an inventory\n",
        "inventory = Inventory()\n",
        "\n",
        "# Add products to the inventory\n",
        "inventory.add_product(product1)\n",
        "inventory.add_product(product2)\n",
        "inventory.add_product(product3)\n",
        "\n",
        "# Update the quantity of a product\n",
        "product1.update_quantity(5)\n",
        "\n",
        "# Remove a product from the inventory\n",
        "inventory.remove_product(\"Banana\")\n",
        "\n",
        "# Calculate the total price of the products in the inventory\n",
        "total_price = inventory.calculate_total_price()\n",
        "print(\"Total price:\", total_price)"
      ]
    }
  ]
}